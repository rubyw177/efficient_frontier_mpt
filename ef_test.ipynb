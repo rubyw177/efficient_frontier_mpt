{
 "cells": [
  {
   "cell_type": "markdown",
   "metadata": {},
   "source": [
    "# Library Imports"
   ]
  },
  {
   "cell_type": "code",
   "execution_count": 41,
   "metadata": {},
   "outputs": [],
   "source": [
    "import numpy as np\n",
    "import datetime as dt\n",
    "import pandas as pd\n",
    "import yfinance as yf\n",
    "from scipy.optimize import minimize\n",
    "import plotly.graph_objects as go\n",
    "import plotly.express as px"
   ]
  },
  {
   "cell_type": "markdown",
   "metadata": {},
   "source": [
    "# Needed Functions"
   ]
  },
  {
   "cell_type": "code",
   "execution_count": null,
   "metadata": {},
   "outputs": [],
   "source": [
    "def get_data(tickers, start=None, end=None):\n",
    "    \"\"\"\n",
    "    Fetch historical close price data for given tickers using yfinance.\n",
    "\n",
    "    Parameters:\n",
    "        tickers (list or str): One or more ticker symbols.\n",
    "        start (str, optional): Start date in 'YYYY-MM-DD' format.\n",
    "        end (str, optional): End date in 'YYYY-MM-DD' format.\n",
    "\n",
    "    Returns:\n",
    "        DataFrame: Close prices for the specified tickers.\n",
    "    \"\"\"\n",
    "    if start is None and end is None:\n",
    "        data = yf.download(tickers=tickers)\n",
    "        return data[\"Close\"]\n",
    "    data = yf.download(tickers=tickers, start=start, end=end)\n",
    "    return data[\"Close\"]\n",
    "\n",
    "\n",
    "def get_return(price_data, mean_cov=True):\n",
    "    \"\"\"\n",
    "    Calculate daily returns from price data and optionally return mean returns and covariance matrix.\n",
    "\n",
    "    Parameters:\n",
    "        price_data (DataFrame): Historical price data.\n",
    "        mean_cov (bool): If True, return [mean_returns, covariance_matrix]; otherwise, return raw returns.\n",
    "\n",
    "    Returns:\n",
    "        list or DataFrame: [mean_returns, covariance_matrix] if mean_cov is True, else DataFrame of returns.\n",
    "    \"\"\"\n",
    "    returns = price_data.pct_change().dropna()\n",
    "    if mean_cov:\n",
    "        return [returns.mean(), returns.cov()]\n",
    "    return returns\n",
    "\n",
    "def get_correlation(price_data, color_scale='RdBu_r', title=\"Asset Correlation Matrix\", return_fig=True):\n",
    "    \"\"\"\n",
    "    Calculate and plot the correlation matrix as a heatmap for a given price data DataFrame.\n",
    "    \n",
    "    Parameters:\n",
    "        price_data (DataFrame): Historical price data.\n",
    "        color_scale (str): The color scale to use for the heatmap.\n",
    "        title (str): The title for the heatmap.\n",
    "        return_fig (bool): If True, returns the figure instead of showing it immediately.\n",
    "    \n",
    "    Returns:\n",
    "        Figure: (Optional) The Plotly figure if return_fig is True.\n",
    "    \"\"\"\n",
    "    if price_data is None or price_data.empty:\n",
    "        print(\"No valid price data provided.\")\n",
    "        return None\n",
    "\n",
    "    returns = price_data.pct_change().dropna()\n",
    "    corr_matrix = returns.corr()\n",
    "    fig = px.imshow(\n",
    "        corr_matrix,\n",
    "        text_auto=True,\n",
    "        color_continuous_scale=color_scale,\n",
    "        title=title\n",
    "    )\n",
    "    fig.update_layout(\n",
    "        xaxis_title=\"Features\",\n",
    "        yaxis_title=\"Features\"\n",
    "    )\n",
    "    \n",
    "    if return_fig:\n",
    "        return fig\n",
    "    else:\n",
    "        fig.show()\n",
    "\n",
    "\n",
    "def portfolio_performance(weights, mean_returns, cov_matrix, trading_days=365):\n",
    "    \"\"\"\n",
    "    Calculates the annualized portfolio return and standard deviation.\n",
    "\n",
    "    Parameters:\n",
    "        weights (array-like): Portfolio weights.\n",
    "        mean_returns (Series): Mean of daily returns.\n",
    "        cov_matrix (DataFrame): Covariance matrix of daily returns.\n",
    "        trading_days (int): Number of trading days per year.\n",
    "\n",
    "    Returns:\n",
    "        list: [annualized return, annualized standard deviation] in decimal form.\n",
    "    \"\"\"\n",
    "    annual_return = np.sum(mean_returns * weights) * trading_days\n",
    "    annual_std = np.sqrt(weights.T @ (cov_matrix @ weights)) * np.sqrt(trading_days)\n",
    "    return [annual_return, annual_std]\n",
    "\n",
    "\n",
    "def neg_sharpe_ratio(weights, mean_returns, cov_matrix, risk_free_rate=0.0, trading_days=365):\n",
    "    \"\"\"\n",
    "    Computes the negative Sharpe ratio for a given set of portfolio weights.\n",
    "\n",
    "    Parameters:\n",
    "        weights (array-like): Portfolio weights.\n",
    "        mean_returns (Series): Mean of daily returns.\n",
    "        cov_matrix (DataFrame): Covariance matrix of daily returns.\n",
    "        risk_free_rate (float): Annualized risk-free rate.\n",
    "        trading_days (int): Number of trading days per year.\n",
    "\n",
    "    Returns:\n",
    "        float: Negative Sharpe ratio.\n",
    "    \"\"\"\n",
    "    annual_return, annual_std = portfolio_performance(weights, mean_returns, cov_matrix, trading_days)\n",
    "    # Use np.isclose to avoid division by zero issues with floating-point precision\n",
    "    if np.isclose(annual_std, 0):\n",
    "        return np.inf\n",
    "    sharpe_ratio = (annual_return - risk_free_rate) / annual_std\n",
    "    return -sharpe_ratio\n",
    "\n",
    "\n",
    "def optimize_sharpe(mean_returns, cov_matrix, risk_free_rate=0.0, trading_days=365, constraint_set=(0, 1)):\n",
    "    \"\"\"\n",
    "    Optimize the portfolio for maximum Sharpe ratio by minimizing the negative Sharpe ratio.\n",
    "\n",
    "    Parameters:\n",
    "        mean_returns (Series): Mean daily returns.\n",
    "        cov_matrix (DataFrame): Covariance matrix of daily returns.\n",
    "        risk_free_rate (float): Annualized risk-free rate.\n",
    "        trading_days (int): Number of trading days per year.\n",
    "        constraint_set (tuple): Bounds for the weights (default (0, 1)).\n",
    "\n",
    "    Returns:\n",
    "        OptimizeResult: The optimization result from scipy.optimize.minimize.\n",
    "    \"\"\"\n",
    "    n_assets = len(mean_returns)\n",
    "    args = (mean_returns, cov_matrix, risk_free_rate, trading_days)\n",
    "    constraints = [{\"type\": \"eq\", \"fun\": lambda x: np.sum(x) - 1}]\n",
    "    weights_bounds = tuple(constraint_set for _ in range(n_assets))\n",
    "    init_guess = n_assets * [1. / n_assets]\n",
    "\n",
    "    result = minimize(\n",
    "        neg_sharpe_ratio,\n",
    "        init_guess,\n",
    "        args=args,\n",
    "        method=\"SLSQP\",\n",
    "        bounds=weights_bounds,\n",
    "        constraints=constraints\n",
    "    )\n",
    "    \n",
    "    if not result.success:\n",
    "        print(\"Optimization for maximum Sharpe ratio failed:\", result.message)\n",
    "    return result\n",
    "\n",
    "\n",
    "def get_portfolio_variance(weights, mean_returns, cov_matrix, trading_days=365):\n",
    "    \"\"\"\n",
    "    Calculate the annualized portfolio standard deviation (volatility).\n",
    "\n",
    "    Parameters:\n",
    "        weights (array-like): Portfolio weights.\n",
    "        mean_returns (Series): Mean of daily returns.\n",
    "        cov_matrix (DataFrame): Covariance matrix of daily returns.\n",
    "        trading_days (int): Number of trading days per year.\n",
    "\n",
    "    Returns:\n",
    "        float: Annualized portfolio volatility.\n",
    "    \"\"\"\n",
    "    _, annual_std = portfolio_performance(weights, mean_returns, cov_matrix, trading_days)\n",
    "    return annual_std\n",
    "\n",
    "\n",
    "def optimize_variance(mean_returns, cov_matrix, trading_days=365, constraint_set=(0, 1)):\n",
    "    \"\"\"\n",
    "    Optimize the portfolio for minimum variance (risk).\n",
    "\n",
    "    Parameters:\n",
    "        mean_returns (Series): Mean of daily returns.\n",
    "        cov_matrix (DataFrame): Covariance matrix of daily returns.\n",
    "        trading_days (int): Number of trading days per year.\n",
    "        constraint_set (tuple): Bounds for weights (default (0,1)).\n",
    "\n",
    "    Returns:\n",
    "        OptimizeResult: The optimization result from scipy.optimize.minimize.\n",
    "    \"\"\"\n",
    "    n_assets = len(mean_returns)\n",
    "    args = (mean_returns, cov_matrix, trading_days)\n",
    "    constraints = [{\"type\": \"eq\", \"fun\": lambda x: np.sum(x) - 1}]\n",
    "    weights_bounds = tuple(constraint_set for _ in range(n_assets))\n",
    "    init_guess = n_assets * [1. / n_assets]\n",
    "\n",
    "    result = minimize(\n",
    "        get_portfolio_variance,\n",
    "        init_guess,\n",
    "        args=args,\n",
    "        method=\"SLSQP\",\n",
    "        bounds=weights_bounds,\n",
    "        constraints=constraints\n",
    "    )\n",
    "    \n",
    "    if not result.success:\n",
    "        print(\"Optimization for minimum variance failed:\", result.message)\n",
    "    return result\n",
    "\n",
    "\n",
    "def get_portfolio_return(weights, mean_returns, cov_matrix, trading_days=365):\n",
    "    \"\"\"\n",
    "    Calculate the annualized portfolio return.\n",
    "\n",
    "    Parameters:\n",
    "        weights (array-like): Portfolio weights.\n",
    "        mean_returns (Series): Mean daily returns.\n",
    "        cov_matrix (DataFrame): Covariance matrix of daily returns.\n",
    "        trading_days (int): Number of trading days per year.\n",
    "\n",
    "    Returns:\n",
    "        float: Annualized portfolio return in decimal form.\n",
    "    \"\"\"\n",
    "    annual_return, _ = portfolio_performance(weights, mean_returns, cov_matrix, trading_days)\n",
    "    return annual_return\n",
    "\n",
    "\n",
    "def efficient_optimization(mean_returns, cov_matrix, return_target, constraint_set=(0, 1), trading_days=365):\n",
    "    \"\"\"\n",
    "    Optimize the portfolio to achieve at least a target annual return while minimizing variance.\n",
    "\n",
    "    Parameters:\n",
    "        mean_returns (Series): Mean daily returns.\n",
    "        cov_matrix (DataFrame): Covariance matrix of daily returns.\n",
    "        return_target (float): Desired annual return target in decimal form.\n",
    "        constraint_set (tuple): Bounds for each asset weight (default (0,1)).\n",
    "        trading_days (int): Number of trading days per year.\n",
    "\n",
    "    Returns:\n",
    "        OptimizeResult: The optimization result from scipy.optimize.minimize.\n",
    "    \"\"\"\n",
    "    n_assets = len(mean_returns)\n",
    "    args = (mean_returns, cov_matrix, trading_days)\n",
    "    constraints = [\n",
    "        {\n",
    "            \"type\": \"ineq\",\n",
    "            \"fun\": lambda x: get_portfolio_return(x, mean_returns, cov_matrix, trading_days) - return_target\n",
    "        },\n",
    "        {\n",
    "            \"type\": \"eq\",\n",
    "            \"fun\": lambda x: np.sum(x) - 1\n",
    "        }\n",
    "    ]\n",
    "    weights_bounds = tuple(constraint_set for _ in range(n_assets))\n",
    "    init_guess = n_assets * [1. / n_assets]\n",
    "\n",
    "    result = minimize(\n",
    "        get_portfolio_variance,\n",
    "        init_guess,\n",
    "        args=args,\n",
    "        method=\"SLSQP\",\n",
    "        bounds=weights_bounds,\n",
    "        constraints=constraints\n",
    "    )\n",
    "    \n",
    "    if not result.success:\n",
    "        print(\"Efficient optimization failed for target return\", return_target, \":\", result.message)\n",
    "    return result\n",
    "\n",
    "\n",
    "def calculated_result(mean_returns, cov_matrix, risk_free_rate=0.0, constraints_set=(0, 1), trading_days=365):\n",
    "    \"\"\"\n",
    "    Compute portfolios optimized for:\n",
    "      - Maximum Sharpe ratio.\n",
    "      - Minimum variance.\n",
    "      - Efficient frontier (minimizing variance for a series of target returns).\n",
    "\n",
    "    Returns:\n",
    "        Tuple containing:\n",
    "          - maxSR_return_disp, maxSR_std_disp: Performance metrics (in percentage) for the max Sharpe ratio portfolio.\n",
    "          - maxSR_allocation: DataFrame of asset weightings for the max Sharpe portfolio.\n",
    "          - minVar_return_disp, minVar_std_disp: Performance metrics (in percentage) for the minimum variance portfolio.\n",
    "          - minVar_allocation: DataFrame of asset weightings for the min variance portfolio.\n",
    "          - effopt_list: List of portfolio variances (risks) for different target returns along the efficient frontier.\n",
    "    \"\"\"\n",
    "    # Optimize maximum Sharpe ratio portfolio\n",
    "    maxSR_portfolio = optimize_sharpe(mean_returns, cov_matrix, risk_free_rate, trading_days, constraints_set)\n",
    "    maxSR_weights = maxSR_portfolio[\"x\"]\n",
    "    maxSR_return_dec, maxSR_std_dec = portfolio_performance(maxSR_weights, mean_returns, cov_matrix, trading_days)\n",
    "    # Keep original decimal values for internal calculations\n",
    "    # Convert to percentage for display\n",
    "    maxSR_return_disp, maxSR_std_disp = round(maxSR_return_dec * 100, 2), round(maxSR_std_dec * 100, 2)\n",
    "    maxSR_allocation = pd.DataFrame(maxSR_weights, index=mean_returns.index, columns=[\"Weightings\"])\n",
    "    maxSR_allocation[\"Weightings\"] = [round(x * 100, 1) for x in maxSR_allocation[\"Weightings\"]]\n",
    "\n",
    "    # Optimize minimum variance portfolio\n",
    "    minVar_portfolio = optimize_variance(mean_returns, cov_matrix, trading_days, constraints_set)\n",
    "    minVar_weights = minVar_portfolio[\"x\"]\n",
    "    minVar_return_dec, minVar_std_dec = portfolio_performance(minVar_weights, mean_returns, cov_matrix, trading_days)\n",
    "    # Convert to percentage for display\n",
    "    minVar_return_disp, minVar_std_disp = round(minVar_return_dec * 100, 2), round(minVar_std_dec * 100, 2)\n",
    "    minVar_allocation = pd.DataFrame(minVar_weights, index=mean_returns.index, columns=[\"Weightings\"])\n",
    "    minVar_allocation[\"Weightings\"] = [round(x * 100, 1) for x in minVar_allocation[\"Weightings\"]]\n",
    "\n",
    "    # Generate efficient frontier data using target returns in decimal form\n",
    "    effopt_list = []\n",
    "    target_returns = np.linspace(minVar_return_dec, maxSR_return_dec, num=20)\n",
    "    for target in target_returns:\n",
    "        opt_result = efficient_optimization(mean_returns, cov_matrix, return_target=target, constraint_set=constraints_set, trading_days=trading_days)\n",
    "        if not opt_result.success:\n",
    "            effopt_list.append(np.nan)\n",
    "        else:\n",
    "            effopt_list.append(opt_result[\"fun\"])\n",
    "    result = {\n",
    "        \"maxSR\": {\n",
    "            \"return_disp\": maxSR_return_disp,\n",
    "            \"return_ori\": maxSR_return_dec,\n",
    "            \"std_disp\": maxSR_std_disp,\n",
    "            \"std_ori\": maxSR_std_dec,\n",
    "            \"allocation\": maxSR_allocation\n",
    "        },\n",
    "        \"minVar\": {\n",
    "            \"return_disp\": minVar_return_disp,\n",
    "            \"return_ori\": minVar_return_dec,\n",
    "            \"std_disp\": minVar_std_disp,\n",
    "            \"std_ori\": minVar_std_dec,\n",
    "            \"allocation\": minVar_allocation\n",
    "        },\n",
    "        \"efficient_frontier\": effopt_list,\n",
    "        \"target_returns\": target_returns\n",
    "    }\n",
    "\n",
    "    return result\n",
    "\n",
    "def plot_efficient_frontier(mean_returns, cov_matrix, risk_free_rate=0.0, constraints_set=(0, 1), trading_days=365):\n",
    "    \"\"\"\n",
    "    Create an interactive Plotly visualization of the efficient frontier,\n",
    "    maximum Sharpe ratio, and minimum variance portfolios.\n",
    "    \"\"\"\n",
    "    results = calculated_result(mean_returns, cov_matrix, risk_free_rate, constraints_set, trading_days)\n",
    "    \n",
    "    # Maximum Sharpe Ratio point\n",
    "    maxSR_plot = go.Scatter(\n",
    "        name=\"Max Sharpe Ratio\",\n",
    "        mode=\"markers\",\n",
    "        x=[round(results[\"maxSR\"][\"std_ori\"] * 100, 2)],\n",
    "        y=[round(results[\"maxSR\"][\"return_ori\"] * 100, 2)],\n",
    "        marker=dict(color=\"#8883f0\", size=18)\n",
    "    )\n",
    "    \n",
    "    # Minimum Variance point\n",
    "    minVar_plot = go.Scatter(\n",
    "        name=\"Min Variance\",\n",
    "        mode=\"markers\",\n",
    "        x=[round(results[\"minVar\"][\"std_ori\"] * 100, 2)],\n",
    "        y=[round(results[\"minVar\"][\"return_ori\"] * 100, 2)],\n",
    "        marker=dict(color=\"#f39530\", size=18)\n",
    "    )\n",
    "    \n",
    "    # Efficient frontier curve\n",
    "    # Convert volatilities and target returns to percentages\n",
    "    eff_vol = [round(v * 100, 2) if not np.isnan(v) else np.nan for v in results[\"efficient_frontier\"]]\n",
    "    eff_ret = [round(t * 100, 2) for t in results[\"target_returns\"]]\n",
    "    eff_curve = go.Scatter(\n",
    "        name=\"Efficient Frontier\",\n",
    "        mode=\"lines\",\n",
    "        x=eff_vol,\n",
    "        y=eff_ret,\n",
    "        line=dict(color=\"#75badb\", width=3, dash=\"dot\")\n",
    "    )\n",
    "    \n",
    "    data = [maxSR_plot, minVar_plot, eff_curve]\n",
    "    layout = go.Layout(\n",
    "        title=\"Portfolio Optimization with Efficient Frontier\",\n",
    "        xaxis=dict(title=\"Annualized Volatility (%)\"),\n",
    "        yaxis=dict(title=\"Annualized Return (%)\"),\n",
    "        showlegend=True,\n",
    "        legend=dict(\n",
    "            x=0.8,\n",
    "            y=0.1,\n",
    "            traceorder=\"normal\",\n",
    "            bgcolor=\"#e6e6e6\",\n",
    "            bordercolor=\"white\",\n",
    "            borderwidth=1,\n",
    "            font=dict(color=\"#222222\")\n",
    "        ),\n",
    "        width=750,\n",
    "        height=600\n",
    "    )\n",
    "\n",
    "    fig = go.Figure(data=data, layout=layout)\n",
    "    return fig.show()\n",
    "\n",
    "def get_asset_metrics(price_data, risk_free_rate=0.0, trading_days=365):\n",
    "    \"\"\"\n",
    "    Calculate annual return, annual volatility, and Sharpe ratio for each asset,\n",
    "    and return a DataFrame with these metrics.\n",
    "\n",
    "    Parameters:\n",
    "        price_data (DataFrame): Historical price data with assets as columns.\n",
    "        risk_free_rate (float): Annualized risk-free rate (in decimal, e.g., 0.02 for 2%).\n",
    "        trading_days (int): Number of trading days per year (365 for default value).\n",
    "\n",
    "    Returns:\n",
    "        DataFrame: Contains each asset's annual return (%), annual volatility (%), and Sharpe ratio.\n",
    "    \"\"\"\n",
    "\n",
    "    # Calculate daily returns, daily volatility and drop NaN values\n",
    "    returns = price_data.pct_change().dropna()\n",
    "    mean_returns = returns.mean()\n",
    "    daily_std = returns.std()\n",
    "\n",
    "    # Calculate annual return and annual volatility\n",
    "    annual_return = mean_returns * trading_days\n",
    "    annual_std = daily_std * np.sqrt(trading_days)\n",
    "\n",
    "    # Calculate sharpe ratio\n",
    "    # (annual return - risk_free_rate) divided by annual volatility\n",
    "    sharpe_ratio = (annual_return - risk_free_rate) / annual_std\n",
    "\n",
    "    # Create a DataFrame with the metrics\n",
    "    metrics_df = pd.DataFrame({\n",
    "        \"Annualized Return\": round(annual_return*100, 2),\n",
    "        \"Annualized Volatility\": round(annual_std*100, 2),\n",
    "        \"Sharpe Ratio\": round(sharpe_ratio, 3)\n",
    "    })\n",
    "    \n",
    "    return metrics_df"
   ]
  },
  {
   "cell_type": "code",
   "execution_count": 43,
   "metadata": {},
   "outputs": [
    {
     "name": "stderr",
     "output_type": "stream",
     "text": [
      "[*********************100%***********************]  5 of 5 completed\n"
     ]
    }
   ],
   "source": [
    "df = get_data([\"DOGE-USD\", \"BTC-USD\", \"XRP-USD\", \"LTC-USD\", \"GOOG\"])"
   ]
  },
  {
   "cell_type": "code",
   "execution_count": 44,
   "metadata": {},
   "outputs": [
    {
     "name": "stderr",
     "output_type": "stream",
     "text": [
      "C:\\Users\\willi\\AppData\\Local\\Temp\\ipykernel_49704\\992143.py:31: FutureWarning:\n",
      "\n",
      "The default fill_method='pad' in DataFrame.pct_change is deprecated and will be removed in a future version. Either fill in any non-leading NA values prior to calling pct_change or specify 'fill_method=None' to not fill NA values.\n",
      "\n"
     ]
    }
   ],
   "source": [
    "mean_returns, cov_mtx_return = get_return(df)"
   ]
  },
  {
   "cell_type": "code",
   "execution_count": 45,
   "metadata": {},
   "outputs": [
    {
     "data": {
      "text/plain": [
       "Ticker\n",
       "BTC-USD     0.001623\n",
       "DOGE-USD    0.004757\n",
       "GOOG        0.000580\n",
       "LTC-USD     0.001533\n",
       "XRP-USD     0.002710\n",
       "dtype: float64"
      ]
     },
     "execution_count": 45,
     "metadata": {},
     "output_type": "execute_result"
    }
   ],
   "source": [
    "mean_returns"
   ]
  },
  {
   "cell_type": "code",
   "execution_count": 46,
   "metadata": {},
   "outputs": [
    {
     "data": {
      "text/plain": [
       "     fun: -1.2560941949128221\n",
       "     jac: array([-2.76267529e-05,  5.24222851e-05, -4.90248203e-06,  4.48741391e-01,\n",
       "        2.68220901e-07])\n",
       " message: 'Optimization terminated successfully'\n",
       "    nfev: 69\n",
       "     nit: 11\n",
       "    njev: 11\n",
       "  status: 0\n",
       " success: True\n",
       "       x: array([1.36936838e-01, 1.27471321e-01, 6.00406007e-01, 3.80554963e-17,\n",
       "       1.35185834e-01])"
      ]
     },
     "execution_count": 46,
     "metadata": {},
     "output_type": "execute_result"
    }
   ],
   "source": [
    "maxSR = optimize_sharpe(\n",
    "    mean_returns=mean_returns,\n",
    "    cov_matrix=cov_mtx_return,\n",
    "    risk_free_rate=0.0,\n",
    "    constraint_set=(0, 1)\n",
    "    )\n",
    "\n",
    "maxSR"
   ]
  },
  {
   "cell_type": "code",
   "execution_count": 47,
   "metadata": {},
   "outputs": [
    {
     "data": {
      "text/plain": [
       "     fun: 0.29633701747972807\n",
       "     jac: array([0.29733031, 0.34194367, 0.29622489, 0.33286845, 0.29701488])\n",
       " message: 'Optimization terminated successfully'\n",
       "    nfev: 31\n",
       "     nit: 5\n",
       "    njev: 5\n",
       "  status: 0\n",
       " success: True\n",
       "       x: array([1.00697303e-01, 1.41358694e-17, 8.98273166e-01, 0.00000000e+00,\n",
       "       1.02953088e-03])"
      ]
     },
     "execution_count": 47,
     "metadata": {},
     "output_type": "execute_result"
    }
   ],
   "source": [
    "minVar = optimize_variance(\n",
    "    mean_returns=mean_returns,\n",
    "    cov_matrix=cov_mtx_return,\n",
    "    constraint_set=(0, 1)\n",
    ")\n",
    "minVar"
   ]
  },
  {
   "cell_type": "code",
   "execution_count": 48,
   "metadata": {},
   "outputs": [
    {
     "data": {
      "text/plain": [
       "array([0.1007 , 0.     , 0.89827, 0.     , 0.00103])"
      ]
     },
     "execution_count": 48,
     "metadata": {},
     "output_type": "execute_result"
    }
   ],
   "source": [
    "np.round(minVar[\"x\"], 5)"
   ]
  },
  {
   "cell_type": "code",
   "execution_count": 49,
   "metadata": {},
   "outputs": [
    {
     "data": {
      "text/plain": [
       "{'maxSR': {'return_disp': 56.33,\n",
       "  'return_ori': 0.563329655021945,\n",
       "  'std_disp': 44.85,\n",
       "  'std_ori': 0.4484772378563872,\n",
       "  'allocation':           Weightings\n",
       "  Ticker              \n",
       "  BTC-USD         13.7\n",
       "  DOGE-USD        12.7\n",
       "  GOOG            60.0\n",
       "  LTC-USD          0.0\n",
       "  XRP-USD         13.5},\n",
       " 'minVar': {'return_disp': 25.09,\n",
       "  'return_ori': 0.25091524218033023,\n",
       "  'std_disp': 29.63,\n",
       "  'std_ori': 0.29633701747972807,\n",
       "  'allocation':           Weightings\n",
       "  Ticker              \n",
       "  BTC-USD         10.1\n",
       "  DOGE-USD         0.0\n",
       "  GOOG            89.8\n",
       "  LTC-USD          0.0\n",
       "  XRP-USD          0.1},\n",
       " 'efficient_frontier': [0.2963368337851502,\n",
       "  0.2971149304266686,\n",
       "  0.2989632002461843,\n",
       "  0.30180945057860764,\n",
       "  0.305624786716021,\n",
       "  0.31037447047166816,\n",
       "  0.31601555222242683,\n",
       "  0.3225021808946128,\n",
       "  0.3297836885022617,\n",
       "  0.3378092792081962,\n",
       "  0.3465265303944413,\n",
       "  0.3558852761087667,\n",
       "  0.3658360621265688,\n",
       "  0.37633192383941116,\n",
       "  0.38732855284750795,\n",
       "  0.39878453006716186,\n",
       "  0.4106614195657159,\n",
       "  0.42292376426199146,\n",
       "  0.4355390100380837,\n",
       "  0.4484773781415939],\n",
       " 'target_returns': array([0.25091524, 0.26735811, 0.28380097, 0.30024383, 0.3166867 ,\n",
       "        0.33312956, 0.34957243, 0.36601529, 0.38245815, 0.39890102,\n",
       "        0.41534388, 0.43178674, 0.44822961, 0.46467247, 0.48111534,\n",
       "        0.4975582 , 0.51400106, 0.53044393, 0.54688679, 0.56332966])}"
      ]
     },
     "execution_count": 49,
     "metadata": {},
     "output_type": "execute_result"
    }
   ],
   "source": [
    "calculated_result(mean_returns, cov_mtx_return)"
   ]
  },
  {
   "cell_type": "code",
   "execution_count": 50,
   "metadata": {},
   "outputs": [
    {
     "data": {
      "text/plain": [
       "array([18.15, 30.89, 19.03,  0.  , 31.93])"
      ]
     },
     "execution_count": 50,
     "metadata": {},
     "output_type": "execute_result"
    }
   ],
   "source": [
    "a = efficient_optimization(mean_returns, cov_mtx_return, return_target=1)\n",
    "a[\"x\"].round(4)*100"
   ]
  },
  {
   "cell_type": "code",
   "execution_count": 51,
   "metadata": {},
   "outputs": [
    {
     "data": {
      "text/plain": [
       "{'color': 'red', 'size': 14, 'line': {'width': 3, 'color': 'black'}}"
      ]
     },
     "execution_count": 51,
     "metadata": {},
     "output_type": "execute_result"
    }
   ],
   "source": [
    "marker=dict(color=\"red\", size=14, line=dict(width=3, color=\"black\"))\n",
    "marker"
   ]
  },
  {
   "cell_type": "code",
   "execution_count": 52,
   "metadata": {},
   "outputs": [
    {
     "data": {
      "application/vnd.plotly.v1+json": {
       "config": {
        "plotlyServerURL": "https://plot.ly"
       },
       "data": [
        {
         "marker": {
          "color": "red",
          "line": {
           "color": "black",
           "width": 3
          },
          "size": 14
         },
         "mode": "markers",
         "name": "Maximum Sharpe Ratio",
         "type": "scatter",
         "x": [
          0.4484772378563872
         ],
         "y": [
          0.563329655021945
         ]
        },
        {
         "marker": {
          "color": "blue",
          "line": {
           "color": "black",
           "width": 3
          },
          "size": 14
         },
         "mode": "markers",
         "name": "Minimum Volatility",
         "type": "scatter",
         "x": [
          0.29633701747972807
         ],
         "y": [
          0.25091524218033023
         ]
        },
        {
         "line": {
          "color": "black",
          "dash": "dashdot",
          "width": 4
         },
         "mode": "lines",
         "name": "Efficient Frontier",
         "type": "scatter",
         "x": [
          29.63,
          29.71,
          29.9,
          30.18,
          30.56,
          31.04,
          31.6,
          32.25,
          32.98,
          33.78,
          34.65,
          35.59,
          36.58,
          37.63,
          38.73,
          39.88,
          41.07,
          42.29,
          43.55,
          44.85
         ],
         "y": [
          [
           25.09,
           26.74,
           28.38,
           30.02,
           31.67,
           33.31,
           34.96,
           36.6,
           38.25,
           39.89,
           41.53,
           43.18,
           44.82,
           46.47,
           48.11,
           49.76,
           51.4,
           53.04,
           54.69,
           56.33
          ]
         ]
        }
       ],
       "layout": {
        "height": 600,
        "legend": {
         "bgcolor": "#E2E2E2",
         "bordercolor": "black",
         "borderwidth": 1,
         "traceorder": "normal",
         "x": 0.75,
         "y": 0
        },
        "showlegend": true,
        "template": {
         "data": {
          "bar": [
           {
            "error_x": {
             "color": "#2a3f5f"
            },
            "error_y": {
             "color": "#2a3f5f"
            },
            "marker": {
             "line": {
              "color": "#E5ECF6",
              "width": 0.5
             },
             "pattern": {
              "fillmode": "overlay",
              "size": 10,
              "solidity": 0.2
             }
            },
            "type": "bar"
           }
          ],
          "barpolar": [
           {
            "marker": {
             "line": {
              "color": "#E5ECF6",
              "width": 0.5
             },
             "pattern": {
              "fillmode": "overlay",
              "size": 10,
              "solidity": 0.2
             }
            },
            "type": "barpolar"
           }
          ],
          "carpet": [
           {
            "aaxis": {
             "endlinecolor": "#2a3f5f",
             "gridcolor": "white",
             "linecolor": "white",
             "minorgridcolor": "white",
             "startlinecolor": "#2a3f5f"
            },
            "baxis": {
             "endlinecolor": "#2a3f5f",
             "gridcolor": "white",
             "linecolor": "white",
             "minorgridcolor": "white",
             "startlinecolor": "#2a3f5f"
            },
            "type": "carpet"
           }
          ],
          "choropleth": [
           {
            "colorbar": {
             "outlinewidth": 0,
             "ticks": ""
            },
            "type": "choropleth"
           }
          ],
          "contour": [
           {
            "colorbar": {
             "outlinewidth": 0,
             "ticks": ""
            },
            "colorscale": [
             [
              0,
              "#0d0887"
             ],
             [
              0.1111111111111111,
              "#46039f"
             ],
             [
              0.2222222222222222,
              "#7201a8"
             ],
             [
              0.3333333333333333,
              "#9c179e"
             ],
             [
              0.4444444444444444,
              "#bd3786"
             ],
             [
              0.5555555555555556,
              "#d8576b"
             ],
             [
              0.6666666666666666,
              "#ed7953"
             ],
             [
              0.7777777777777778,
              "#fb9f3a"
             ],
             [
              0.8888888888888888,
              "#fdca26"
             ],
             [
              1,
              "#f0f921"
             ]
            ],
            "type": "contour"
           }
          ],
          "contourcarpet": [
           {
            "colorbar": {
             "outlinewidth": 0,
             "ticks": ""
            },
            "type": "contourcarpet"
           }
          ],
          "heatmap": [
           {
            "colorbar": {
             "outlinewidth": 0,
             "ticks": ""
            },
            "colorscale": [
             [
              0,
              "#0d0887"
             ],
             [
              0.1111111111111111,
              "#46039f"
             ],
             [
              0.2222222222222222,
              "#7201a8"
             ],
             [
              0.3333333333333333,
              "#9c179e"
             ],
             [
              0.4444444444444444,
              "#bd3786"
             ],
             [
              0.5555555555555556,
              "#d8576b"
             ],
             [
              0.6666666666666666,
              "#ed7953"
             ],
             [
              0.7777777777777778,
              "#fb9f3a"
             ],
             [
              0.8888888888888888,
              "#fdca26"
             ],
             [
              1,
              "#f0f921"
             ]
            ],
            "type": "heatmap"
           }
          ],
          "heatmapgl": [
           {
            "colorbar": {
             "outlinewidth": 0,
             "ticks": ""
            },
            "colorscale": [
             [
              0,
              "#0d0887"
             ],
             [
              0.1111111111111111,
              "#46039f"
             ],
             [
              0.2222222222222222,
              "#7201a8"
             ],
             [
              0.3333333333333333,
              "#9c179e"
             ],
             [
              0.4444444444444444,
              "#bd3786"
             ],
             [
              0.5555555555555556,
              "#d8576b"
             ],
             [
              0.6666666666666666,
              "#ed7953"
             ],
             [
              0.7777777777777778,
              "#fb9f3a"
             ],
             [
              0.8888888888888888,
              "#fdca26"
             ],
             [
              1,
              "#f0f921"
             ]
            ],
            "type": "heatmapgl"
           }
          ],
          "histogram": [
           {
            "marker": {
             "pattern": {
              "fillmode": "overlay",
              "size": 10,
              "solidity": 0.2
             }
            },
            "type": "histogram"
           }
          ],
          "histogram2d": [
           {
            "colorbar": {
             "outlinewidth": 0,
             "ticks": ""
            },
            "colorscale": [
             [
              0,
              "#0d0887"
             ],
             [
              0.1111111111111111,
              "#46039f"
             ],
             [
              0.2222222222222222,
              "#7201a8"
             ],
             [
              0.3333333333333333,
              "#9c179e"
             ],
             [
              0.4444444444444444,
              "#bd3786"
             ],
             [
              0.5555555555555556,
              "#d8576b"
             ],
             [
              0.6666666666666666,
              "#ed7953"
             ],
             [
              0.7777777777777778,
              "#fb9f3a"
             ],
             [
              0.8888888888888888,
              "#fdca26"
             ],
             [
              1,
              "#f0f921"
             ]
            ],
            "type": "histogram2d"
           }
          ],
          "histogram2dcontour": [
           {
            "colorbar": {
             "outlinewidth": 0,
             "ticks": ""
            },
            "colorscale": [
             [
              0,
              "#0d0887"
             ],
             [
              0.1111111111111111,
              "#46039f"
             ],
             [
              0.2222222222222222,
              "#7201a8"
             ],
             [
              0.3333333333333333,
              "#9c179e"
             ],
             [
              0.4444444444444444,
              "#bd3786"
             ],
             [
              0.5555555555555556,
              "#d8576b"
             ],
             [
              0.6666666666666666,
              "#ed7953"
             ],
             [
              0.7777777777777778,
              "#fb9f3a"
             ],
             [
              0.8888888888888888,
              "#fdca26"
             ],
             [
              1,
              "#f0f921"
             ]
            ],
            "type": "histogram2dcontour"
           }
          ],
          "mesh3d": [
           {
            "colorbar": {
             "outlinewidth": 0,
             "ticks": ""
            },
            "type": "mesh3d"
           }
          ],
          "parcoords": [
           {
            "line": {
             "colorbar": {
              "outlinewidth": 0,
              "ticks": ""
             }
            },
            "type": "parcoords"
           }
          ],
          "pie": [
           {
            "automargin": true,
            "type": "pie"
           }
          ],
          "scatter": [
           {
            "fillpattern": {
             "fillmode": "overlay",
             "size": 10,
             "solidity": 0.2
            },
            "type": "scatter"
           }
          ],
          "scatter3d": [
           {
            "line": {
             "colorbar": {
              "outlinewidth": 0,
              "ticks": ""
             }
            },
            "marker": {
             "colorbar": {
              "outlinewidth": 0,
              "ticks": ""
             }
            },
            "type": "scatter3d"
           }
          ],
          "scattercarpet": [
           {
            "marker": {
             "colorbar": {
              "outlinewidth": 0,
              "ticks": ""
             }
            },
            "type": "scattercarpet"
           }
          ],
          "scattergeo": [
           {
            "marker": {
             "colorbar": {
              "outlinewidth": 0,
              "ticks": ""
             }
            },
            "type": "scattergeo"
           }
          ],
          "scattergl": [
           {
            "marker": {
             "colorbar": {
              "outlinewidth": 0,
              "ticks": ""
             }
            },
            "type": "scattergl"
           }
          ],
          "scattermapbox": [
           {
            "marker": {
             "colorbar": {
              "outlinewidth": 0,
              "ticks": ""
             }
            },
            "type": "scattermapbox"
           }
          ],
          "scatterpolar": [
           {
            "marker": {
             "colorbar": {
              "outlinewidth": 0,
              "ticks": ""
             }
            },
            "type": "scatterpolar"
           }
          ],
          "scatterpolargl": [
           {
            "marker": {
             "colorbar": {
              "outlinewidth": 0,
              "ticks": ""
             }
            },
            "type": "scatterpolargl"
           }
          ],
          "scatterternary": [
           {
            "marker": {
             "colorbar": {
              "outlinewidth": 0,
              "ticks": ""
             }
            },
            "type": "scatterternary"
           }
          ],
          "surface": [
           {
            "colorbar": {
             "outlinewidth": 0,
             "ticks": ""
            },
            "colorscale": [
             [
              0,
              "#0d0887"
             ],
             [
              0.1111111111111111,
              "#46039f"
             ],
             [
              0.2222222222222222,
              "#7201a8"
             ],
             [
              0.3333333333333333,
              "#9c179e"
             ],
             [
              0.4444444444444444,
              "#bd3786"
             ],
             [
              0.5555555555555556,
              "#d8576b"
             ],
             [
              0.6666666666666666,
              "#ed7953"
             ],
             [
              0.7777777777777778,
              "#fb9f3a"
             ],
             [
              0.8888888888888888,
              "#fdca26"
             ],
             [
              1,
              "#f0f921"
             ]
            ],
            "type": "surface"
           }
          ],
          "table": [
           {
            "cells": {
             "fill": {
              "color": "#EBF0F8"
             },
             "line": {
              "color": "white"
             }
            },
            "header": {
             "fill": {
              "color": "#C8D4E3"
             },
             "line": {
              "color": "white"
             }
            },
            "type": "table"
           }
          ]
         },
         "layout": {
          "annotationdefaults": {
           "arrowcolor": "#2a3f5f",
           "arrowhead": 0,
           "arrowwidth": 1
          },
          "autotypenumbers": "strict",
          "coloraxis": {
           "colorbar": {
            "outlinewidth": 0,
            "ticks": ""
           }
          },
          "colorscale": {
           "diverging": [
            [
             0,
             "#8e0152"
            ],
            [
             0.1,
             "#c51b7d"
            ],
            [
             0.2,
             "#de77ae"
            ],
            [
             0.3,
             "#f1b6da"
            ],
            [
             0.4,
             "#fde0ef"
            ],
            [
             0.5,
             "#f7f7f7"
            ],
            [
             0.6,
             "#e6f5d0"
            ],
            [
             0.7,
             "#b8e186"
            ],
            [
             0.8,
             "#7fbc41"
            ],
            [
             0.9,
             "#4d9221"
            ],
            [
             1,
             "#276419"
            ]
           ],
           "sequential": [
            [
             0,
             "#0d0887"
            ],
            [
             0.1111111111111111,
             "#46039f"
            ],
            [
             0.2222222222222222,
             "#7201a8"
            ],
            [
             0.3333333333333333,
             "#9c179e"
            ],
            [
             0.4444444444444444,
             "#bd3786"
            ],
            [
             0.5555555555555556,
             "#d8576b"
            ],
            [
             0.6666666666666666,
             "#ed7953"
            ],
            [
             0.7777777777777778,
             "#fb9f3a"
            ],
            [
             0.8888888888888888,
             "#fdca26"
            ],
            [
             1,
             "#f0f921"
            ]
           ],
           "sequentialminus": [
            [
             0,
             "#0d0887"
            ],
            [
             0.1111111111111111,
             "#46039f"
            ],
            [
             0.2222222222222222,
             "#7201a8"
            ],
            [
             0.3333333333333333,
             "#9c179e"
            ],
            [
             0.4444444444444444,
             "#bd3786"
            ],
            [
             0.5555555555555556,
             "#d8576b"
            ],
            [
             0.6666666666666666,
             "#ed7953"
            ],
            [
             0.7777777777777778,
             "#fb9f3a"
            ],
            [
             0.8888888888888888,
             "#fdca26"
            ],
            [
             1,
             "#f0f921"
            ]
           ]
          },
          "colorway": [
           "#636efa",
           "#EF553B",
           "#00cc96",
           "#ab63fa",
           "#FFA15A",
           "#19d3f3",
           "#FF6692",
           "#B6E880",
           "#FF97FF",
           "#FECB52"
          ],
          "font": {
           "color": "#2a3f5f"
          },
          "geo": {
           "bgcolor": "white",
           "lakecolor": "white",
           "landcolor": "#E5ECF6",
           "showlakes": true,
           "showland": true,
           "subunitcolor": "white"
          },
          "hoverlabel": {
           "align": "left"
          },
          "hovermode": "closest",
          "mapbox": {
           "style": "light"
          },
          "paper_bgcolor": "white",
          "plot_bgcolor": "#E5ECF6",
          "polar": {
           "angularaxis": {
            "gridcolor": "white",
            "linecolor": "white",
            "ticks": ""
           },
           "bgcolor": "#E5ECF6",
           "radialaxis": {
            "gridcolor": "white",
            "linecolor": "white",
            "ticks": ""
           }
          },
          "scene": {
           "xaxis": {
            "backgroundcolor": "#E5ECF6",
            "gridcolor": "white",
            "gridwidth": 2,
            "linecolor": "white",
            "showbackground": true,
            "ticks": "",
            "zerolinecolor": "white"
           },
           "yaxis": {
            "backgroundcolor": "#E5ECF6",
            "gridcolor": "white",
            "gridwidth": 2,
            "linecolor": "white",
            "showbackground": true,
            "ticks": "",
            "zerolinecolor": "white"
           },
           "zaxis": {
            "backgroundcolor": "#E5ECF6",
            "gridcolor": "white",
            "gridwidth": 2,
            "linecolor": "white",
            "showbackground": true,
            "ticks": "",
            "zerolinecolor": "white"
           }
          },
          "shapedefaults": {
           "line": {
            "color": "#2a3f5f"
           }
          },
          "ternary": {
           "aaxis": {
            "gridcolor": "white",
            "linecolor": "white",
            "ticks": ""
           },
           "baxis": {
            "gridcolor": "white",
            "linecolor": "white",
            "ticks": ""
           },
           "bgcolor": "#E5ECF6",
           "caxis": {
            "gridcolor": "white",
            "linecolor": "white",
            "ticks": ""
           }
          },
          "title": {
           "x": 0.05
          },
          "xaxis": {
           "automargin": true,
           "gridcolor": "white",
           "linecolor": "white",
           "ticks": "",
           "title": {
            "standoff": 15
           },
           "zerolinecolor": "white",
           "zerolinewidth": 2
          },
          "yaxis": {
           "automargin": true,
           "gridcolor": "white",
           "linecolor": "white",
           "ticks": "",
           "title": {
            "standoff": 15
           },
           "zerolinecolor": "white",
           "zerolinewidth": 2
          }
         }
        },
        "title": {
         "text": "Portfolio Optimization with Efficient Frontier"
        },
        "width": 800,
        "xaxis": {
         "title": {
          "text": "Annualized Standard Deviation (%)"
         }
        },
        "yaxis": {
         "title": {
          "text": "Annualized Return (%)"
         }
        }
       }
      }
     },
     "metadata": {},
     "output_type": "display_data"
    }
   ],
   "source": [
    "plot_efficient_frontier(mean_returns=mean_returns, cov_matrix=cov_mtx_return)"
   ]
  },
  {
   "cell_type": "code",
   "execution_count": 53,
   "metadata": {},
   "outputs": [
    {
     "name": "stderr",
     "output_type": "stream",
     "text": [
      "C:\\Users\\willi\\AppData\\Local\\Temp\\ipykernel_49704\\992143.py:53: FutureWarning:\n",
      "\n",
      "The default fill_method='pad' in DataFrame.pct_change is deprecated and will be removed in a future version. Either fill in any non-leading NA values prior to calling pct_change or specify 'fill_method=None' to not fill NA values.\n",
      "\n"
     ]
    },
    {
     "data": {
      "application/vnd.plotly.v1+json": {
       "config": {
        "plotlyServerURL": "https://plot.ly"
       },
       "data": [
        {
         "coloraxis": "coloraxis",
         "hovertemplate": "Ticker: %{x}<br>Ticker: %{y}<br>color: %{z}<extra></extra>",
         "name": "0",
         "texttemplate": "%{z}",
         "type": "heatmap",
         "x": [
          "BTC-USD",
          "DOGE-USD",
          "GOOG",
          "LTC-USD",
          "XRP-USD"
         ],
         "xaxis": "x",
         "y": [
          "BTC-USD",
          "DOGE-USD",
          "GOOG",
          "LTC-USD",
          "XRP-USD"
         ],
         "yaxis": "y",
         "z": [
          [
           1,
           0.3938284736022713,
           0.20839978844075385,
           0.7077768433473149,
           0.502321448707672
          ],
          [
           0.3938284736022713,
           1,
           0.09914182909505928,
           0.3650636178936674,
           0.28398226978310176
          ],
          [
           0.20839978844075385,
           0.09914182909505928,
           1,
           0.18611662247528996,
           0.14043579564356573
          ],
          [
           0.7077768433473149,
           0.3650636178936674,
           0.18611662247528996,
           1,
           0.5710081328973015
          ],
          [
           0.502321448707672,
           0.28398226978310176,
           0.14043579564356573,
           0.5710081328973015,
           1
          ]
         ]
        }
       ],
       "layout": {
        "coloraxis": {
         "colorscale": [
          [
           0,
           "rgb(5,48,97)"
          ],
          [
           0.1,
           "rgb(33,102,172)"
          ],
          [
           0.2,
           "rgb(67,147,195)"
          ],
          [
           0.3,
           "rgb(146,197,222)"
          ],
          [
           0.4,
           "rgb(209,229,240)"
          ],
          [
           0.5,
           "rgb(247,247,247)"
          ],
          [
           0.6,
           "rgb(253,219,199)"
          ],
          [
           0.7,
           "rgb(244,165,130)"
          ],
          [
           0.8,
           "rgb(214,96,77)"
          ],
          [
           0.9,
           "rgb(178,24,43)"
          ],
          [
           1,
           "rgb(103,0,31)"
          ]
         ]
        },
        "template": {
         "data": {
          "bar": [
           {
            "error_x": {
             "color": "#2a3f5f"
            },
            "error_y": {
             "color": "#2a3f5f"
            },
            "marker": {
             "line": {
              "color": "#E5ECF6",
              "width": 0.5
             },
             "pattern": {
              "fillmode": "overlay",
              "size": 10,
              "solidity": 0.2
             }
            },
            "type": "bar"
           }
          ],
          "barpolar": [
           {
            "marker": {
             "line": {
              "color": "#E5ECF6",
              "width": 0.5
             },
             "pattern": {
              "fillmode": "overlay",
              "size": 10,
              "solidity": 0.2
             }
            },
            "type": "barpolar"
           }
          ],
          "carpet": [
           {
            "aaxis": {
             "endlinecolor": "#2a3f5f",
             "gridcolor": "white",
             "linecolor": "white",
             "minorgridcolor": "white",
             "startlinecolor": "#2a3f5f"
            },
            "baxis": {
             "endlinecolor": "#2a3f5f",
             "gridcolor": "white",
             "linecolor": "white",
             "minorgridcolor": "white",
             "startlinecolor": "#2a3f5f"
            },
            "type": "carpet"
           }
          ],
          "choropleth": [
           {
            "colorbar": {
             "outlinewidth": 0,
             "ticks": ""
            },
            "type": "choropleth"
           }
          ],
          "contour": [
           {
            "colorbar": {
             "outlinewidth": 0,
             "ticks": ""
            },
            "colorscale": [
             [
              0,
              "#0d0887"
             ],
             [
              0.1111111111111111,
              "#46039f"
             ],
             [
              0.2222222222222222,
              "#7201a8"
             ],
             [
              0.3333333333333333,
              "#9c179e"
             ],
             [
              0.4444444444444444,
              "#bd3786"
             ],
             [
              0.5555555555555556,
              "#d8576b"
             ],
             [
              0.6666666666666666,
              "#ed7953"
             ],
             [
              0.7777777777777778,
              "#fb9f3a"
             ],
             [
              0.8888888888888888,
              "#fdca26"
             ],
             [
              1,
              "#f0f921"
             ]
            ],
            "type": "contour"
           }
          ],
          "contourcarpet": [
           {
            "colorbar": {
             "outlinewidth": 0,
             "ticks": ""
            },
            "type": "contourcarpet"
           }
          ],
          "heatmap": [
           {
            "colorbar": {
             "outlinewidth": 0,
             "ticks": ""
            },
            "colorscale": [
             [
              0,
              "#0d0887"
             ],
             [
              0.1111111111111111,
              "#46039f"
             ],
             [
              0.2222222222222222,
              "#7201a8"
             ],
             [
              0.3333333333333333,
              "#9c179e"
             ],
             [
              0.4444444444444444,
              "#bd3786"
             ],
             [
              0.5555555555555556,
              "#d8576b"
             ],
             [
              0.6666666666666666,
              "#ed7953"
             ],
             [
              0.7777777777777778,
              "#fb9f3a"
             ],
             [
              0.8888888888888888,
              "#fdca26"
             ],
             [
              1,
              "#f0f921"
             ]
            ],
            "type": "heatmap"
           }
          ],
          "heatmapgl": [
           {
            "colorbar": {
             "outlinewidth": 0,
             "ticks": ""
            },
            "colorscale": [
             [
              0,
              "#0d0887"
             ],
             [
              0.1111111111111111,
              "#46039f"
             ],
             [
              0.2222222222222222,
              "#7201a8"
             ],
             [
              0.3333333333333333,
              "#9c179e"
             ],
             [
              0.4444444444444444,
              "#bd3786"
             ],
             [
              0.5555555555555556,
              "#d8576b"
             ],
             [
              0.6666666666666666,
              "#ed7953"
             ],
             [
              0.7777777777777778,
              "#fb9f3a"
             ],
             [
              0.8888888888888888,
              "#fdca26"
             ],
             [
              1,
              "#f0f921"
             ]
            ],
            "type": "heatmapgl"
           }
          ],
          "histogram": [
           {
            "marker": {
             "pattern": {
              "fillmode": "overlay",
              "size": 10,
              "solidity": 0.2
             }
            },
            "type": "histogram"
           }
          ],
          "histogram2d": [
           {
            "colorbar": {
             "outlinewidth": 0,
             "ticks": ""
            },
            "colorscale": [
             [
              0,
              "#0d0887"
             ],
             [
              0.1111111111111111,
              "#46039f"
             ],
             [
              0.2222222222222222,
              "#7201a8"
             ],
             [
              0.3333333333333333,
              "#9c179e"
             ],
             [
              0.4444444444444444,
              "#bd3786"
             ],
             [
              0.5555555555555556,
              "#d8576b"
             ],
             [
              0.6666666666666666,
              "#ed7953"
             ],
             [
              0.7777777777777778,
              "#fb9f3a"
             ],
             [
              0.8888888888888888,
              "#fdca26"
             ],
             [
              1,
              "#f0f921"
             ]
            ],
            "type": "histogram2d"
           }
          ],
          "histogram2dcontour": [
           {
            "colorbar": {
             "outlinewidth": 0,
             "ticks": ""
            },
            "colorscale": [
             [
              0,
              "#0d0887"
             ],
             [
              0.1111111111111111,
              "#46039f"
             ],
             [
              0.2222222222222222,
              "#7201a8"
             ],
             [
              0.3333333333333333,
              "#9c179e"
             ],
             [
              0.4444444444444444,
              "#bd3786"
             ],
             [
              0.5555555555555556,
              "#d8576b"
             ],
             [
              0.6666666666666666,
              "#ed7953"
             ],
             [
              0.7777777777777778,
              "#fb9f3a"
             ],
             [
              0.8888888888888888,
              "#fdca26"
             ],
             [
              1,
              "#f0f921"
             ]
            ],
            "type": "histogram2dcontour"
           }
          ],
          "mesh3d": [
           {
            "colorbar": {
             "outlinewidth": 0,
             "ticks": ""
            },
            "type": "mesh3d"
           }
          ],
          "parcoords": [
           {
            "line": {
             "colorbar": {
              "outlinewidth": 0,
              "ticks": ""
             }
            },
            "type": "parcoords"
           }
          ],
          "pie": [
           {
            "automargin": true,
            "type": "pie"
           }
          ],
          "scatter": [
           {
            "fillpattern": {
             "fillmode": "overlay",
             "size": 10,
             "solidity": 0.2
            },
            "type": "scatter"
           }
          ],
          "scatter3d": [
           {
            "line": {
             "colorbar": {
              "outlinewidth": 0,
              "ticks": ""
             }
            },
            "marker": {
             "colorbar": {
              "outlinewidth": 0,
              "ticks": ""
             }
            },
            "type": "scatter3d"
           }
          ],
          "scattercarpet": [
           {
            "marker": {
             "colorbar": {
              "outlinewidth": 0,
              "ticks": ""
             }
            },
            "type": "scattercarpet"
           }
          ],
          "scattergeo": [
           {
            "marker": {
             "colorbar": {
              "outlinewidth": 0,
              "ticks": ""
             }
            },
            "type": "scattergeo"
           }
          ],
          "scattergl": [
           {
            "marker": {
             "colorbar": {
              "outlinewidth": 0,
              "ticks": ""
             }
            },
            "type": "scattergl"
           }
          ],
          "scattermapbox": [
           {
            "marker": {
             "colorbar": {
              "outlinewidth": 0,
              "ticks": ""
             }
            },
            "type": "scattermapbox"
           }
          ],
          "scatterpolar": [
           {
            "marker": {
             "colorbar": {
              "outlinewidth": 0,
              "ticks": ""
             }
            },
            "type": "scatterpolar"
           }
          ],
          "scatterpolargl": [
           {
            "marker": {
             "colorbar": {
              "outlinewidth": 0,
              "ticks": ""
             }
            },
            "type": "scatterpolargl"
           }
          ],
          "scatterternary": [
           {
            "marker": {
             "colorbar": {
              "outlinewidth": 0,
              "ticks": ""
             }
            },
            "type": "scatterternary"
           }
          ],
          "surface": [
           {
            "colorbar": {
             "outlinewidth": 0,
             "ticks": ""
            },
            "colorscale": [
             [
              0,
              "#0d0887"
             ],
             [
              0.1111111111111111,
              "#46039f"
             ],
             [
              0.2222222222222222,
              "#7201a8"
             ],
             [
              0.3333333333333333,
              "#9c179e"
             ],
             [
              0.4444444444444444,
              "#bd3786"
             ],
             [
              0.5555555555555556,
              "#d8576b"
             ],
             [
              0.6666666666666666,
              "#ed7953"
             ],
             [
              0.7777777777777778,
              "#fb9f3a"
             ],
             [
              0.8888888888888888,
              "#fdca26"
             ],
             [
              1,
              "#f0f921"
             ]
            ],
            "type": "surface"
           }
          ],
          "table": [
           {
            "cells": {
             "fill": {
              "color": "#EBF0F8"
             },
             "line": {
              "color": "white"
             }
            },
            "header": {
             "fill": {
              "color": "#C8D4E3"
             },
             "line": {
              "color": "white"
             }
            },
            "type": "table"
           }
          ]
         },
         "layout": {
          "annotationdefaults": {
           "arrowcolor": "#2a3f5f",
           "arrowhead": 0,
           "arrowwidth": 1
          },
          "autotypenumbers": "strict",
          "coloraxis": {
           "colorbar": {
            "outlinewidth": 0,
            "ticks": ""
           }
          },
          "colorscale": {
           "diverging": [
            [
             0,
             "#8e0152"
            ],
            [
             0.1,
             "#c51b7d"
            ],
            [
             0.2,
             "#de77ae"
            ],
            [
             0.3,
             "#f1b6da"
            ],
            [
             0.4,
             "#fde0ef"
            ],
            [
             0.5,
             "#f7f7f7"
            ],
            [
             0.6,
             "#e6f5d0"
            ],
            [
             0.7,
             "#b8e186"
            ],
            [
             0.8,
             "#7fbc41"
            ],
            [
             0.9,
             "#4d9221"
            ],
            [
             1,
             "#276419"
            ]
           ],
           "sequential": [
            [
             0,
             "#0d0887"
            ],
            [
             0.1111111111111111,
             "#46039f"
            ],
            [
             0.2222222222222222,
             "#7201a8"
            ],
            [
             0.3333333333333333,
             "#9c179e"
            ],
            [
             0.4444444444444444,
             "#bd3786"
            ],
            [
             0.5555555555555556,
             "#d8576b"
            ],
            [
             0.6666666666666666,
             "#ed7953"
            ],
            [
             0.7777777777777778,
             "#fb9f3a"
            ],
            [
             0.8888888888888888,
             "#fdca26"
            ],
            [
             1,
             "#f0f921"
            ]
           ],
           "sequentialminus": [
            [
             0,
             "#0d0887"
            ],
            [
             0.1111111111111111,
             "#46039f"
            ],
            [
             0.2222222222222222,
             "#7201a8"
            ],
            [
             0.3333333333333333,
             "#9c179e"
            ],
            [
             0.4444444444444444,
             "#bd3786"
            ],
            [
             0.5555555555555556,
             "#d8576b"
            ],
            [
             0.6666666666666666,
             "#ed7953"
            ],
            [
             0.7777777777777778,
             "#fb9f3a"
            ],
            [
             0.8888888888888888,
             "#fdca26"
            ],
            [
             1,
             "#f0f921"
            ]
           ]
          },
          "colorway": [
           "#636efa",
           "#EF553B",
           "#00cc96",
           "#ab63fa",
           "#FFA15A",
           "#19d3f3",
           "#FF6692",
           "#B6E880",
           "#FF97FF",
           "#FECB52"
          ],
          "font": {
           "color": "#2a3f5f"
          },
          "geo": {
           "bgcolor": "white",
           "lakecolor": "white",
           "landcolor": "#E5ECF6",
           "showlakes": true,
           "showland": true,
           "subunitcolor": "white"
          },
          "hoverlabel": {
           "align": "left"
          },
          "hovermode": "closest",
          "mapbox": {
           "style": "light"
          },
          "paper_bgcolor": "white",
          "plot_bgcolor": "#E5ECF6",
          "polar": {
           "angularaxis": {
            "gridcolor": "white",
            "linecolor": "white",
            "ticks": ""
           },
           "bgcolor": "#E5ECF6",
           "radialaxis": {
            "gridcolor": "white",
            "linecolor": "white",
            "ticks": ""
           }
          },
          "scene": {
           "xaxis": {
            "backgroundcolor": "#E5ECF6",
            "gridcolor": "white",
            "gridwidth": 2,
            "linecolor": "white",
            "showbackground": true,
            "ticks": "",
            "zerolinecolor": "white"
           },
           "yaxis": {
            "backgroundcolor": "#E5ECF6",
            "gridcolor": "white",
            "gridwidth": 2,
            "linecolor": "white",
            "showbackground": true,
            "ticks": "",
            "zerolinecolor": "white"
           },
           "zaxis": {
            "backgroundcolor": "#E5ECF6",
            "gridcolor": "white",
            "gridwidth": 2,
            "linecolor": "white",
            "showbackground": true,
            "ticks": "",
            "zerolinecolor": "white"
           }
          },
          "shapedefaults": {
           "line": {
            "color": "#2a3f5f"
           }
          },
          "ternary": {
           "aaxis": {
            "gridcolor": "white",
            "linecolor": "white",
            "ticks": ""
           },
           "baxis": {
            "gridcolor": "white",
            "linecolor": "white",
            "ticks": ""
           },
           "bgcolor": "#E5ECF6",
           "caxis": {
            "gridcolor": "white",
            "linecolor": "white",
            "ticks": ""
           }
          },
          "title": {
           "x": 0.05
          },
          "xaxis": {
           "automargin": true,
           "gridcolor": "white",
           "linecolor": "white",
           "ticks": "",
           "title": {
            "standoff": 15
           },
           "zerolinecolor": "white",
           "zerolinewidth": 2
          },
          "yaxis": {
           "automargin": true,
           "gridcolor": "white",
           "linecolor": "white",
           "ticks": "",
           "title": {
            "standoff": 15
           },
           "zerolinecolor": "white",
           "zerolinewidth": 2
          }
         }
        },
        "title": {
         "text": "Asset Correlation Matrix"
        },
        "xaxis": {
         "anchor": "y",
         "constrain": "domain",
         "domain": [
          0,
          1
         ],
         "scaleanchor": "y",
         "title": {
          "text": "Features"
         }
        },
        "yaxis": {
         "anchor": "x",
         "autorange": "reversed",
         "constrain": "domain",
         "domain": [
          0,
          1
         ],
         "title": {
          "text": "Features"
         }
        }
       }
      }
     },
     "metadata": {},
     "output_type": "display_data"
    }
   ],
   "source": [
    "get_correlation(df)"
   ]
  },
  {
   "cell_type": "code",
   "execution_count": 73,
   "metadata": {},
   "outputs": [
    {
     "name": "stderr",
     "output_type": "stream",
     "text": [
      "C:\\Users\\willi\\AppData\\Local\\Temp\\ipykernel_49704\\2438869708.py:368: FutureWarning:\n",
      "\n",
      "The default fill_method='pad' in DataFrame.pct_change is deprecated and will be removed in a future version. Either fill in any non-leading NA values prior to calling pct_change or specify 'fill_method=None' to not fill NA values.\n",
      "\n"
     ]
    },
    {
     "data": {
      "text/html": [
       "<div>\n",
       "<style scoped>\n",
       "    .dataframe tbody tr th:only-of-type {\n",
       "        vertical-align: middle;\n",
       "    }\n",
       "\n",
       "    .dataframe tbody tr th {\n",
       "        vertical-align: top;\n",
       "    }\n",
       "\n",
       "    .dataframe thead th {\n",
       "        text-align: right;\n",
       "    }\n",
       "</style>\n",
       "<table border=\"1\" class=\"dataframe\">\n",
       "  <thead>\n",
       "    <tr style=\"text-align: right;\">\n",
       "      <th></th>\n",
       "      <th>Annualized Return</th>\n",
       "      <th>Annualized Volatility</th>\n",
       "      <th>Sharpe Ratio</th>\n",
       "    </tr>\n",
       "    <tr>\n",
       "      <th>Ticker</th>\n",
       "      <th></th>\n",
       "      <th></th>\n",
       "      <th></th>\n",
       "    </tr>\n",
       "  </thead>\n",
       "  <tbody>\n",
       "    <tr>\n",
       "      <th>BTC-USD</th>\n",
       "      <td>59.24</td>\n",
       "      <td>69.21</td>\n",
       "      <td>0.856</td>\n",
       "    </tr>\n",
       "    <tr>\n",
       "      <th>DOGE-USD</th>\n",
       "      <td>173.63</td>\n",
       "      <td>184.53</td>\n",
       "      <td>0.941</td>\n",
       "    </tr>\n",
       "    <tr>\n",
       "      <th>GOOG</th>\n",
       "      <td>21.18</td>\n",
       "      <td>30.45</td>\n",
       "      <td>0.695</td>\n",
       "    </tr>\n",
       "    <tr>\n",
       "      <th>LTC-USD</th>\n",
       "      <td>55.97</td>\n",
       "      <td>97.73</td>\n",
       "      <td>0.573</td>\n",
       "    </tr>\n",
       "    <tr>\n",
       "      <th>XRP-USD</th>\n",
       "      <td>98.92</td>\n",
       "      <td>117.92</td>\n",
       "      <td>0.839</td>\n",
       "    </tr>\n",
       "  </tbody>\n",
       "</table>\n",
       "</div>"
      ],
      "text/plain": [
       "          Annualized Return  Annualized Volatility  Sharpe Ratio\n",
       "Ticker                                                          \n",
       "BTC-USD               59.24                  69.21         0.856\n",
       "DOGE-USD             173.63                 184.53         0.941\n",
       "GOOG                  21.18                  30.45         0.695\n",
       "LTC-USD               55.97                  97.73         0.573\n",
       "XRP-USD               98.92                 117.92         0.839"
      ]
     },
     "execution_count": 73,
     "metadata": {},
     "output_type": "execute_result"
    }
   ],
   "source": [
    "get_asset_metrics(df)"
   ]
  }
 ],
 "metadata": {
  "kernelspec": {
   "display_name": "Python 3",
   "language": "python",
   "name": "python3"
  },
  "language_info": {
   "codemirror_mode": {
    "name": "ipython",
    "version": 3
   },
   "file_extension": ".py",
   "mimetype": "text/x-python",
   "name": "python",
   "nbconvert_exporter": "python",
   "pygments_lexer": "ipython3",
   "version": "3.11.1"
  }
 },
 "nbformat": 4,
 "nbformat_minor": 2
}
